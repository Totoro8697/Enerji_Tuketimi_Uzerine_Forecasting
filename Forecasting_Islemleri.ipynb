{
 "cells": [
  {
   "cell_type": "markdown",
   "metadata": {},
   "source": [
    "## Verinin Hazilanmasi ve Incelenmesi"
   ]
  },
  {
   "cell_type": "code",
   "execution_count": 97,
   "metadata": {},
   "outputs": [
    {
     "data": {
      "text/html": [
       "        <script type=\"text/javascript\">\n",
       "        window.PlotlyConfig = {MathJaxConfig: 'local'};\n",
       "        if (window.MathJax) {MathJax.Hub.Config({SVG: {font: \"STIX-Web\"}});}\n",
       "        if (typeof require !== 'undefined') {\n",
       "        require.undef(\"plotly\");\n",
       "        requirejs.config({\n",
       "            paths: {\n",
       "                'plotly': ['https://cdn.plot.ly/plotly-latest.min']\n",
       "            }\n",
       "        });\n",
       "        require(['plotly'], function(Plotly) {\n",
       "            window._Plotly = Plotly;\n",
       "        });\n",
       "        }\n",
       "        </script>\n",
       "        "
      ]
     },
     "metadata": {},
     "output_type": "display_data"
    },
    {
     "data": {
      "text/html": [
       "<div>\n",
       "<style scoped>\n",
       "    .dataframe tbody tr th:only-of-type {\n",
       "        vertical-align: middle;\n",
       "    }\n",
       "\n",
       "    .dataframe tbody tr th {\n",
       "        vertical-align: top;\n",
       "    }\n",
       "\n",
       "    .dataframe thead th {\n",
       "        text-align: right;\n",
       "    }\n",
       "</style>\n",
       "<table border=\"1\" class=\"dataframe\">\n",
       "  <thead>\n",
       "    <tr style=\"text-align: right;\">\n",
       "      <th></th>\n",
       "      <th>Datetime</th>\n",
       "      <th>PJM_Load_MW</th>\n",
       "    </tr>\n",
       "  </thead>\n",
       "  <tbody>\n",
       "    <tr>\n",
       "      <th>0</th>\n",
       "      <td>1998-12-31 01:00:00</td>\n",
       "      <td>29309.0</td>\n",
       "    </tr>\n",
       "    <tr>\n",
       "      <th>1</th>\n",
       "      <td>1998-12-31 02:00:00</td>\n",
       "      <td>28236.0</td>\n",
       "    </tr>\n",
       "    <tr>\n",
       "      <th>2</th>\n",
       "      <td>1998-12-31 03:00:00</td>\n",
       "      <td>27692.0</td>\n",
       "    </tr>\n",
       "    <tr>\n",
       "      <th>3</th>\n",
       "      <td>1998-12-31 04:00:00</td>\n",
       "      <td>27596.0</td>\n",
       "    </tr>\n",
       "    <tr>\n",
       "      <th>4</th>\n",
       "      <td>1998-12-31 05:00:00</td>\n",
       "      <td>27888.0</td>\n",
       "    </tr>\n",
       "    <tr>\n",
       "      <th>...</th>\n",
       "      <td>...</td>\n",
       "      <td>...</td>\n",
       "    </tr>\n",
       "    <tr>\n",
       "      <th>32891</th>\n",
       "      <td>2001-01-01 20:00:00</td>\n",
       "      <td>35209.0</td>\n",
       "    </tr>\n",
       "    <tr>\n",
       "      <th>32892</th>\n",
       "      <td>2001-01-01 21:00:00</td>\n",
       "      <td>34791.0</td>\n",
       "    </tr>\n",
       "    <tr>\n",
       "      <th>32893</th>\n",
       "      <td>2001-01-01 22:00:00</td>\n",
       "      <td>33669.0</td>\n",
       "    </tr>\n",
       "    <tr>\n",
       "      <th>32894</th>\n",
       "      <td>2001-01-01 23:00:00</td>\n",
       "      <td>31809.0</td>\n",
       "    </tr>\n",
       "    <tr>\n",
       "      <th>32895</th>\n",
       "      <td>2001-01-02 00:00:00</td>\n",
       "      <td>29506.0</td>\n",
       "    </tr>\n",
       "  </tbody>\n",
       "</table>\n",
       "<p>32896 rows × 2 columns</p>\n",
       "</div>"
      ],
      "text/plain": [
       "                  Datetime  PJM_Load_MW\n",
       "0      1998-12-31 01:00:00      29309.0\n",
       "1      1998-12-31 02:00:00      28236.0\n",
       "2      1998-12-31 03:00:00      27692.0\n",
       "3      1998-12-31 04:00:00      27596.0\n",
       "4      1998-12-31 05:00:00      27888.0\n",
       "...                    ...          ...\n",
       "32891  2001-01-01 20:00:00      35209.0\n",
       "32892  2001-01-01 21:00:00      34791.0\n",
       "32893  2001-01-01 22:00:00      33669.0\n",
       "32894  2001-01-01 23:00:00      31809.0\n",
       "32895  2001-01-02 00:00:00      29506.0\n",
       "\n",
       "[32896 rows x 2 columns]"
      ]
     },
     "execution_count": 97,
     "metadata": {},
     "output_type": "execute_result"
    }
   ],
   "source": [
    "# Kullanilabielcek Kutuphanelerin Yuklenmesi\n",
    "# Veri setinin import edilmsi\n",
    "\n",
    "import pandas as pd\n",
    "import numpy as np\n",
    "import pandas as pd\n",
    "import numpy as np\n",
    "from datetime import datetime\n",
    "import matplotlib.pyplot as plt\n",
    "import seaborn as sns\n",
    "plt.style.use('fivethirtyeight')\n",
    "sns.set()\n",
    "%matplotlib inline\n",
    "import plotly.offline as py\n",
    "py.init_notebook_mode(connected=True)\n",
    "import plotly.graph_objs as go\n",
    "import statsmodels.api as sm\n",
    "import xgboost as xgb\n",
    "import lightgbm as lgb\n",
    "from sklearn.model_selection import train_test_split\n",
    "\n",
    "import warnings\n",
    "\n",
    "\n",
    "warnings.filterwarnings(\"ignore\")\n",
    "\n",
    "df = pd.read_csv(\"Hourly Load Data.csv\")\n",
    "df"
   ]
  },
  {
   "cell_type": "code",
   "execution_count": 4,
   "metadata": {},
   "outputs": [
    {
     "name": "stdout",
     "output_type": "stream",
     "text": [
      "<class 'pandas.core.frame.DataFrame'>\n",
      "RangeIndex: 32896 entries, 0 to 32895\n",
      "Data columns (total 2 columns):\n",
      " #   Column       Non-Null Count  Dtype  \n",
      "---  ------       --------------  -----  \n",
      " 0   Datetime     32896 non-null  object \n",
      " 1   PJM_Load_MW  32896 non-null  float64\n",
      "dtypes: float64(1), object(1)\n",
      "memory usage: 514.1+ KB\n"
     ]
    }
   ],
   "source": [
    "# Burada goruldugu gibi Datetime object turunde bunun degistirilmesi ve tarih formatina getirilmesi gerekiyor.\n",
    "\n",
    "df.info()"
   ]
  },
  {
   "cell_type": "code",
   "execution_count": 98,
   "metadata": {},
   "outputs": [],
   "source": [
    "# Tarih formatina getirilmesi\n",
    "\n",
    "df['Datetime'] = pd.to_datetime(df['Datetime'])\n",
    "df.sort_values([\"Datetime\"],ascending=True,inplace=True)\n",
    "df.reset_index(inplace=True,drop=\"İndex\")"
   ]
  },
  {
   "cell_type": "code",
   "execution_count": 99,
   "metadata": {},
   "outputs": [
    {
     "data": {
      "text/plain": [
       "Datetime       0\n",
       "PJM_Load_MW    0\n",
       "dtype: int64"
      ]
     },
     "execution_count": 99,
     "metadata": {},
     "output_type": "execute_result"
    }
   ],
   "source": [
    "# Herhangi bir eksik gozlem yok \n",
    "\n",
    "df.isnull().sum()"
   ]
  },
  {
   "cell_type": "code",
   "execution_count": 100,
   "metadata": {},
   "outputs": [],
   "source": [
    "# Simdi Tarih sutununu kullanarak Ay, haftanin gunu, ceyreklik, yil ve saat olarak bolelim\n",
    "\n",
    "df['month'] = df['Datetime'].dt.month\n",
    "df['day'] = df['Datetime'].dt.dayofweek\n",
    "df['year'] = df['Datetime'].dt.year\n",
    "df['hour'] = df['Datetime'].dt.hour\n",
    "df['quarter'] = df['Datetime'].dt.quarter"
   ]
  },
  {
   "cell_type": "code",
   "execution_count": 101,
   "metadata": {},
   "outputs": [
    {
     "data": {
      "text/html": [
       "<div>\n",
       "<style scoped>\n",
       "    .dataframe tbody tr th:only-of-type {\n",
       "        vertical-align: middle;\n",
       "    }\n",
       "\n",
       "    .dataframe tbody tr th {\n",
       "        vertical-align: top;\n",
       "    }\n",
       "\n",
       "    .dataframe thead th {\n",
       "        text-align: right;\n",
       "    }\n",
       "</style>\n",
       "<table border=\"1\" class=\"dataframe\">\n",
       "  <thead>\n",
       "    <tr style=\"text-align: right;\">\n",
       "      <th></th>\n",
       "      <th>Datetime</th>\n",
       "      <th>PJM_Load_MW</th>\n",
       "      <th>month</th>\n",
       "      <th>day</th>\n",
       "      <th>year</th>\n",
       "      <th>hour</th>\n",
       "      <th>quarter</th>\n",
       "    </tr>\n",
       "  </thead>\n",
       "  <tbody>\n",
       "    <tr>\n",
       "      <th>0</th>\n",
       "      <td>1998-04-01 01:00:00</td>\n",
       "      <td>22259.0</td>\n",
       "      <td>4</td>\n",
       "      <td>2</td>\n",
       "      <td>1998</td>\n",
       "      <td>1</td>\n",
       "      <td>2</td>\n",
       "    </tr>\n",
       "    <tr>\n",
       "      <th>1</th>\n",
       "      <td>1998-04-01 02:00:00</td>\n",
       "      <td>21244.0</td>\n",
       "      <td>4</td>\n",
       "      <td>2</td>\n",
       "      <td>1998</td>\n",
       "      <td>2</td>\n",
       "      <td>2</td>\n",
       "    </tr>\n",
       "    <tr>\n",
       "      <th>2</th>\n",
       "      <td>1998-04-01 03:00:00</td>\n",
       "      <td>20651.0</td>\n",
       "      <td>4</td>\n",
       "      <td>2</td>\n",
       "      <td>1998</td>\n",
       "      <td>3</td>\n",
       "      <td>2</td>\n",
       "    </tr>\n",
       "    <tr>\n",
       "      <th>3</th>\n",
       "      <td>1998-04-01 04:00:00</td>\n",
       "      <td>20421.0</td>\n",
       "      <td>4</td>\n",
       "      <td>2</td>\n",
       "      <td>1998</td>\n",
       "      <td>4</td>\n",
       "      <td>2</td>\n",
       "    </tr>\n",
       "    <tr>\n",
       "      <th>4</th>\n",
       "      <td>1998-04-01 05:00:00</td>\n",
       "      <td>20713.0</td>\n",
       "      <td>4</td>\n",
       "      <td>2</td>\n",
       "      <td>1998</td>\n",
       "      <td>5</td>\n",
       "      <td>2</td>\n",
       "    </tr>\n",
       "    <tr>\n",
       "      <th>...</th>\n",
       "      <td>...</td>\n",
       "      <td>...</td>\n",
       "      <td>...</td>\n",
       "      <td>...</td>\n",
       "      <td>...</td>\n",
       "      <td>...</td>\n",
       "      <td>...</td>\n",
       "    </tr>\n",
       "    <tr>\n",
       "      <th>32891</th>\n",
       "      <td>2001-12-31 20:00:00</td>\n",
       "      <td>36392.0</td>\n",
       "      <td>12</td>\n",
       "      <td>0</td>\n",
       "      <td>2001</td>\n",
       "      <td>20</td>\n",
       "      <td>4</td>\n",
       "    </tr>\n",
       "    <tr>\n",
       "      <th>32892</th>\n",
       "      <td>2001-12-31 21:00:00</td>\n",
       "      <td>35082.0</td>\n",
       "      <td>12</td>\n",
       "      <td>0</td>\n",
       "      <td>2001</td>\n",
       "      <td>21</td>\n",
       "      <td>4</td>\n",
       "    </tr>\n",
       "    <tr>\n",
       "      <th>32893</th>\n",
       "      <td>2001-12-31 22:00:00</td>\n",
       "      <td>33890.0</td>\n",
       "      <td>12</td>\n",
       "      <td>0</td>\n",
       "      <td>2001</td>\n",
       "      <td>22</td>\n",
       "      <td>4</td>\n",
       "    </tr>\n",
       "    <tr>\n",
       "      <th>32894</th>\n",
       "      <td>2001-12-31 23:00:00</td>\n",
       "      <td>32590.0</td>\n",
       "      <td>12</td>\n",
       "      <td>0</td>\n",
       "      <td>2001</td>\n",
       "      <td>23</td>\n",
       "      <td>4</td>\n",
       "    </tr>\n",
       "    <tr>\n",
       "      <th>32895</th>\n",
       "      <td>2002-01-01 00:00:00</td>\n",
       "      <td>31569.0</td>\n",
       "      <td>1</td>\n",
       "      <td>1</td>\n",
       "      <td>2002</td>\n",
       "      <td>0</td>\n",
       "      <td>1</td>\n",
       "    </tr>\n",
       "  </tbody>\n",
       "</table>\n",
       "<p>32896 rows × 7 columns</p>\n",
       "</div>"
      ],
      "text/plain": [
       "                 Datetime  PJM_Load_MW  month  day  year  hour  quarter\n",
       "0     1998-04-01 01:00:00      22259.0      4    2  1998     1        2\n",
       "1     1998-04-01 02:00:00      21244.0      4    2  1998     2        2\n",
       "2     1998-04-01 03:00:00      20651.0      4    2  1998     3        2\n",
       "3     1998-04-01 04:00:00      20421.0      4    2  1998     4        2\n",
       "4     1998-04-01 05:00:00      20713.0      4    2  1998     5        2\n",
       "...                   ...          ...    ...  ...   ...   ...      ...\n",
       "32891 2001-12-31 20:00:00      36392.0     12    0  2001    20        4\n",
       "32892 2001-12-31 21:00:00      35082.0     12    0  2001    21        4\n",
       "32893 2001-12-31 22:00:00      33890.0     12    0  2001    22        4\n",
       "32894 2001-12-31 23:00:00      32590.0     12    0  2001    23        4\n",
       "32895 2002-01-01 00:00:00      31569.0      1    1  2002     0        1\n",
       "\n",
       "[32896 rows x 7 columns]"
      ]
     },
     "execution_count": 101,
     "metadata": {},
     "output_type": "execute_result"
    }
   ],
   "source": [
    "# Islemden sonra bir goz gecirelim veri setine\n",
    "# Veri setine ekstra olarak ay, haftanin gunu, ceyreklik, saat ve yil olmak uzere 5 degisken daha eklemis oluyoruz.\n",
    "\n",
    "\n",
    "df"
   ]
  },
  {
   "cell_type": "code",
   "execution_count": null,
   "metadata": {},
   "outputs": [],
   "source": []
  },
  {
   "cell_type": "markdown",
   "metadata": {},
   "source": [
    "### - Birkac Gorsellestirme Ile Devam Edelim"
   ]
  },
  {
   "cell_type": "code",
   "execution_count": 102,
   "metadata": {},
   "outputs": [
    {
     "data": {
      "text/plain": [
       "<matplotlib.axes._subplots.AxesSubplot at 0x1cc72985e48>"
      ]
     },
     "execution_count": 102,
     "metadata": {},
     "output_type": "execute_result"
    },
    {
     "data": {
      "image/png": "[encoded data removed]",
      "text/plain": [
       "<Figure size 432x288 with 1 Axes>"
      ]
     },
     "metadata": {
      "needs_background": "light"
     },
     "output_type": "display_data"
    }
   ],
   "source": [
    "# Yillara gore bir gorsellestirme yaptigimiz zaman PJM_Load_MW degerinin artan bir trend ile devam ettigini gosteriyor\n",
    "\n",
    "sns.lineplot(x=\"year\", y=\"PJM_Load_MW\",\n",
    "             data=df)"
   ]
  },
  {
   "cell_type": "code",
   "execution_count": 103,
   "metadata": {},
   "outputs": [
    {
     "data": {
      "text/plain": [
       "<matplotlib.axes._subplots.AxesSubplot at 0x1cc72ad4908>"
      ]
     },
     "execution_count": 103,
     "metadata": {},
     "output_type": "execute_result"
    },
    {
     "data": {
      "image/png": "[encoded data removed]",
      "text/plain": [
       "<Figure size 432x288 with 1 Axes>"
      ]
     },
     "metadata": {
      "needs_background": "light"
     },
     "output_type": "display_data"
    }
   ],
   "source": [
    "# Ceyreklikler baz alindiginda ise elektrik kullaniminda 1. ve 3. ceyrekte kullanim yuksek iken 2. ve 4. ceyrekte kullanim orani dusuyor \n",
    "\n",
    "sns.lineplot(x=\"quarter\", y=\"PJM_Load_MW\",\n",
    "             data=df)"
   ]
  },
  {
   "cell_type": "code",
   "execution_count": 104,
   "metadata": {},
   "outputs": [
    {
     "data": {
      "text/plain": [
       "<matplotlib.axes._subplots.AxesSubplot at 0x1cc6f322a48>"
      ]
     },
     "execution_count": 104,
     "metadata": {},
     "output_type": "execute_result"
    },
    {
     "data": {
      "image/png": "[encoded data removed]",
      "text/plain": [
       "<Figure size 432x288 with 1 Axes>"
      ]
     },
     "metadata": {
      "needs_background": "light"
     },
     "output_type": "display_data"
    }
   ],
   "source": [
    "# Gunluk olarak degerlendirildiginde ise elektrik kullanimi hafta ici daha fazla iken hafta sonu bir dusus oldugunu gorebiliyoruz genel olarak\n",
    "\n",
    "sns.lineplot(x=\"day\", y=\"PJM_Load_MW\",\n",
    "             data=df)"
   ]
  },
  {
   "cell_type": "code",
   "execution_count": 105,
   "metadata": {},
   "outputs": [
    {
     "data": {
      "text/plain": [
       "<matplotlib.axes._subplots.AxesSubplot at 0x1cc72732d88>"
      ]
     },
     "execution_count": 105,
     "metadata": {},
     "output_type": "execute_result"
    },
    {
     "data": {
      "image/png": "[encoded data removed]",
      "text/plain": [
       "<Figure size 432x288 with 1 Axes>"
      ]
     },
     "metadata": {
      "needs_background": "light"
     },
     "output_type": "display_data"
    }
   ],
   "source": [
    "# Son olarak aylar baz alindiginda ise 1. ve 2. ay bazinda bir yukseklik var ama ardindan bir dusus ile devam ediyor\n",
    "# Daha sonra 4. aydan itibaren yukselen bir trende giriyor. \n",
    "# Yaz aylarinda elektrik tuketiminin fazlaca oldugunu gorebiliyoruz\n",
    "\n",
    "sns.lineplot(x=\"month\", y=\"PJM_Load_MW\",\n",
    "             data=df)"
   ]
  },
  {
   "cell_type": "code",
   "execution_count": null,
   "metadata": {},
   "outputs": [],
   "source": []
  },
  {
   "cell_type": "code",
   "execution_count": 106,
   "metadata": {},
   "outputs": [
    {
     "name": "stdout",
     "output_type": "stream",
     "text": [
      "Max MWh: 51714.0\n",
      "Min MWh: 17461.0\n",
      "Avg MWh: 29571.414216397792\n",
      "\n",
      "MWh bucket v/s Total percentage:\n"
     ]
    },
    {
     "data": {
      "text/plain": [
       "(30000, 40000]    42.898394\n",
       "(25000, 30000]    34.244721\n",
       "(20000, 25000]    22.856885\n",
       "Name: MWh_bins, dtype: float64"
      ]
     },
     "metadata": {},
     "output_type": "display_data"
    }
   ],
   "source": [
    "# Bir olceklendirme yapabiliriz. \n",
    "# PJM_Load_MW degiskenimiz numericti bunu gruplayip hangi araliklarin kullanim sikliginin daha fazla oldugu gorebiliriz.\n",
    "\n",
    "\n",
    "def MWh_dist(data):\n",
    "   \n",
    "    MWh_df = data.copy(deep=True)\n",
    "    MWh_df['MWh_bins'] = pd.cut(MWh_df.PJM_Load_MW, [20000, 25000, 30000, 40000 ])\n",
    "    print('Max MWh:', MWh_df.PJM_Load_MW.max())\n",
    "    print('Min MWh:', MWh_df.PJM_Load_MW.min())\n",
    "    print('Avg MWh:', MWh_df.PJM_Load_MW.mean())\n",
    "    print()\n",
    "    return MWh_df\n",
    "\n",
    "MWh_df = MWh_dist(train_df)\n",
    "\n",
    "# Total number of data points\n",
    "total_points = pd.value_counts(MWh_df.MWh_bins).sum()\n",
    "print('MWh bucket v/s Total percentage:')\n",
    "display(pd.value_counts(MWh_df.MWh_bins).apply(lambda s: (s/total_points)*100))"
   ]
  },
  {
   "cell_type": "code",
   "execution_count": 107,
   "metadata": {},
   "outputs": [
    {
     "data": {
      "image/png": "[encoded data removed]",
      "text/plain": [
       "<Figure size 432x288 with 1 Axes>"
      ]
     },
     "metadata": {
      "needs_background": "light"
     },
     "output_type": "display_data"
    }
   ],
   "source": [
    "# Goruldugu uzere buyukten kucuge doru giden bir kullanim durumu var.\n",
    "\n",
    "MHW_count = pd.value_counts(MWh_df.MWh_bins)\n",
    "MHW_count.sort_values(ascending=True).plot(kind='barh', title='MWh distribution', );"
   ]
  },
  {
   "cell_type": "code",
   "execution_count": null,
   "metadata": {},
   "outputs": [],
   "source": []
  },
  {
   "cell_type": "markdown",
   "metadata": {},
   "source": [
    "### - Veri Setinin Ikiye Ayrilmasi ve Model "
   ]
  },
  {
   "cell_type": "code",
   "execution_count": 87,
   "metadata": {},
   "outputs": [
    {
     "data": {
      "text/plain": [
       "((20263, 5), (20263,), (6053, 5), (6053,))"
      ]
     },
     "execution_count": 87,
     "metadata": {},
     "output_type": "execute_result"
    }
   ],
   "source": [
    "# Burada SHUFFLE = FALSE cunku zaman serileri ile calisirken seri tarihsel olarak siralanir ve serinin tahmin edilecek kismi modele gosterilmez\n",
    "# Ilk once modelimizi sinarken VALIDASYON seti ile yapacagiz.\n",
    "\n",
    "train_df= df.loc[:26315,:].copy()\n",
    "test_df = df.loc[26316:,:].copy()\n",
    "\n",
    "def split_data(train_data,test_data):\n",
    "\n",
    "    col = [i for i in test_data.columns if i not in ['Datetime','PJM_Load_MW']]\n",
    "    y = 'PJM_Load_MW'\n",
    "    train_x, test_val, train_y, test_y_val = train_test_split(train_data[col],train_data[y], test_size=0.23,  random_state=42,shuffle=False)\n",
    "    return (train_x, test_val, train_y, test_y_val,col)\n",
    "\n",
    "train_x, test_val, train_y, test_y_val,col = split_data(train_df,test_df)\n",
    "\n",
    "train_x.shape,train_y.shape,test_val.shape,test_y_val.shape"
   ]
  },
  {
   "cell_type": "code",
   "execution_count": 88,
   "metadata": {},
   "outputs": [],
   "source": [
    "# Model olarka LIGHTGBM ile devam ediyoruz.\n",
    "# Yakin zamanda cikan lihtgbm microsoft tarafindan piyasa surulmustur ve cok iyi sonuclar vermektedir.\n",
    "# Arastirmalar sonucu belli basli parametreleri kullandim ve validasyon setinin tahmin suresinde metric olarak MAPE ele aldim.\n",
    "\n",
    "\n",
    "def model(train_x,train_y,test_val,test_y_val,col):\n",
    "    params = {\n",
    "        'nthread': 10,\n",
    "         'max_depth': 5,\n",
    "        'task': 'train',\n",
    "        'boosting_type': 'gbdt',\n",
    "        'objective': 'regression_l1',\n",
    "        'metric': 'mape',\n",
    "        'num_leaves': 64,\n",
    "        'learning_rate': 0.2,\n",
    "       'feature_fraction': 0.9,\n",
    "       'bagging_fraction': 0.8,\n",
    "        'bagging_freq': 5,\n",
    "        'lambda_l1': 3.097758978478437,\n",
    "        'lambda_l2': 2.9482537987198496,\n",
    "        'verbose': 1,\n",
    "        'min_child_weight': 6.996211413900573,\n",
    "        'min_split_gain': 0.037310344962162616,\n",
    "        }\n",
    "    \n",
    "    lgb_train = lgb.Dataset(train_x,train_y)\n",
    "    lgb_valid = lgb.Dataset(test_val,test_y_val)\n",
    "    model = lgb.train(params, lgb_train, 10000, valid_sets=[lgb_train, lgb_valid],early_stopping_rounds=50, verbose_eval=50)\n",
    "    y_pred = model.predict(test_df[col])\n",
    "    return y_pred,model"
   ]
  },
  {
   "cell_type": "code",
   "execution_count": 89,
   "metadata": {},
   "outputs": [
    {
     "name": "stdout",
     "output_type": "stream",
     "text": [
      "Training until validation scores don't improve for 50 rounds\n",
      "[50]\ttraining's mape: 0.0605783\tvalid_1's mape: 0.0624787\n",
      "Early stopping, best iteration is:\n",
      "[39]\ttraining's mape: 0.0619624\tvalid_1's mape: 0.0606785\n",
      "Wall time: 350 ms\n"
     ]
    }
   ],
   "source": [
    "%%time\n",
    "y_pred, model = model(train_x,train_y,test_x,test_y,col)"
   ]
  },
  {
   "cell_type": "code",
   "execution_count": null,
   "metadata": {},
   "outputs": [],
   "source": []
  },
  {
   "cell_type": "markdown",
   "metadata": {},
   "source": [
    "### - MAPE indikatorunun degerlendirilmesi"
   ]
  },
  {
   "cell_type": "code",
   "execution_count": 90,
   "metadata": {},
   "outputs": [
    {
     "data": {
      "text/plain": [
       "0.0663135991952795"
      ]
     },
     "execution_count": 90,
     "metadata": {},
     "output_type": "execute_result"
    }
   ],
   "source": [
    "# MAPE bilindigi uzere ortalama mutlak yuzde hata olarak gecmektedir\n",
    "# Mape istatistigi farkli birim degerlere sahip modellerin karsilastirilmasinda kullanilmaktadir ve bu problemi elimine edebilmektedir \n",
    "# Bir makale de soyle yazmaktadir:\n",
    "\n",
    "## MAPE <%10’un altında olan modeller “çok iyi”,\n",
    "## % 10 < MAPE < % 20 arasında olan modelleri “iyi”,\n",
    "## % 20 < MAPE < % 50 arasında olan modelleri “kabul edilebilir” ve %50< MAPE ’nin üzerinde olan modeller ise “yanlış ve hatalı” olarak sınıflandırılmıştır.\n",
    "\n",
    "# MAPE sonucuna bakilmasi\n",
    "# Train setinin MAPE degeri 0.0619624\n",
    "# Validasyon setinin MAPE degeri 0.0606785 olarak bulundu\n",
    "# Test setinin MAPE degeri ise 0.0663135991952795 buldugunu goruyoruz \n",
    "# Kurdugumuz modelin iyi bir derece tahmin gucu gerceklestirdigini gorduk\n",
    "\n",
    "from sklearn.metrics import mean_absolute_percentage_error\n",
    "mean_absolute_percentage_error(test_df[\"PJM_Load_MW\"],y_pred)"
   ]
  },
  {
   "cell_type": "code",
   "execution_count": null,
   "metadata": {},
   "outputs": [],
   "source": []
  },
  {
   "cell_type": "markdown",
   "metadata": {},
   "source": [
    "### - Genel Degerlendirme"
   ]
  },
  {
   "cell_type": "markdown",
   "metadata": {},
   "source": [
    "* -Porje kapsaminda sonuclarin hangi hangi cografyadan alindiginin bilinmesinde fayda olacaktir\n",
    "\n",
    "* -Hangi sehirlerin oldugunu bilmek bize daha ayrintiya inip bolgelere gore daha belirli sonuclar elde etmemizi saglayacaktir\n",
    "\n",
    "* -Bolgeseler kriterler uzerinde yapilacak olan calismalar daha cok ayrintiyi elde etmemizi saglayabilir. Ornegin bolgenin hava durumu, nufusu gibi degiskenler tahminleme sonucuna etkili olabilir."
   ]
  },
  {
   "cell_type": "code",
   "execution_count": null,
   "metadata": {},
   "outputs": [],
   "source": []
  },
  {
   "cell_type": "code",
   "execution_count": null,
   "metadata": {},
   "outputs": [],
   "source": []
  },
  {
   "cell_type": "code",
   "execution_count": null,
   "metadata": {},
   "outputs": [],
   "source": []
  }
 ],
 "metadata": {
  "kernelspec": {
   "display_name": "Python 3",
   "language": "python",
   "name": "python3"
  },
  "language_info": {
   "codemirror_mode": {
    "name": "ipython",
    "version": 3
   },
   "file_extension": ".py",
   "mimetype": "text/x-python",
   "name": "python",
   "nbconvert_exporter": "python",
   "pygments_lexer": "ipython3",
   "version": "3.7.6"
  }
 },
 "nbformat": 4,
 "nbformat_minor": 4
}
